{
 "cells": [
  {
   "cell_type": "code",
   "execution_count": 3,
   "metadata": {},
   "outputs": [
    {
     "ename": "ModuleNotFoundError",
     "evalue": "No module named 'audio_processing'",
     "output_type": "error",
     "traceback": [
      "\u001b[1;31m---------------------------------------------------------------------------\u001b[0m",
      "\u001b[1;31mModuleNotFoundError\u001b[0m                       Traceback (most recent call last)",
      "Cell \u001b[1;32mIn[3], line 2\u001b[0m\n\u001b[0;32m      1\u001b[0m \u001b[38;5;28;01mimport\u001b[39;00m \u001b[38;5;21;01mlibrosa\u001b[39;00m\n\u001b[1;32m----> 2\u001b[0m \u001b[38;5;28;01mfrom\u001b[39;00m \u001b[38;5;21;01maudio_processing\u001b[39;00m\u001b[38;5;21;01m.\u001b[39;00m\u001b[38;5;21;01mdataset_loader\u001b[39;00m \u001b[38;5;28;01mimport\u001b[39;00m SpeechDatasetLoader\n\u001b[0;32m      5\u001b[0m \u001b[38;5;66;03m# We want to compare some models to see which one is the best for our data\u001b[39;00m\n\u001b[0;32m      6\u001b[0m dataset \u001b[38;5;241m=\u001b[39m SpeechDatasetLoader()\n",
      "\u001b[1;31mModuleNotFoundError\u001b[0m: No module named 'audio_processing'"
     ]
    }
   ],
   "source": [
    "import librosa\n",
    "from audio_processing.dataset_loader import SpeechDatasetLoader\n",
    "\n",
    "# We want to compare some models to see which one is the best for our data\n",
    "dataset = SpeechDatasetLoader()\n",
    "train = dataset.train\n",
    "sampling_rate = 16000\n",
    "\n",
    "audio = train[0][\"\"]\n",
    "audio = train[0][\"audio\"]\n"
   ]
  }
 ],
 "metadata": {
  "kernelspec": {
   "display_name": "phoneme-recognition",
   "language": "python",
   "name": "python3"
  },
  "language_info": {
   "codemirror_mode": {
    "name": "ipython",
    "version": 3
   },
   "file_extension": ".py",
   "mimetype": "text/x-python",
   "name": "python",
   "nbconvert_exporter": "python",
   "pygments_lexer": "ipython3",
   "version": "3.8.20"
  }
 },
 "nbformat": 4,
 "nbformat_minor": 2
}
