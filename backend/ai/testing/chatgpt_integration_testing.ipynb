{
 "cells": [
  {
   "cell_type": "markdown",
   "metadata": {},
   "source": [
    "<h1>CHAT GPT STUFF</h1>"
   ]
  },
  {
   "cell_type": "code",
   "execution_count": 1,
   "metadata": {},
   "outputs": [],
   "source": [
    "\n",
    "from openai import OpenAI\n",
    "client = OpenAI(api_key=)"
   ]
  },
  {
   "cell_type": "code",
   "execution_count": 2,
   "metadata": {},
   "outputs": [],
   "source": [
    "\n",
    "def reset_conversation_history():\n",
    "  global conversation_history\n",
    "  conversation_history = [\n",
    "      {\n",
    "        \"role\": \"system\",\n",
    "        \"content\": [\n",
    "          {\n",
    "            \"type\": \"text\",\n",
    "            \"text\": \"You are a personalized phonics assistant designed to help elementary school children improve their pronunciation through targeted phonics practice.\\n\\nYou will receive three inputs:\\nAttempted Sentence – The sentence the student was trying to say.\\nGround Truth Phonemes – The correct phonemic breakdown of the sentence in ARPAbet notation.\\nStudent Phonemes – The phonemic breakdown of the student's actual pronunciation in ARPAbet notation.\\nYour task is to provide:\\n\\n1. Targeted Feedback:\\nIf the student made a significant mistake, focus on only the most important mispronounced phoneme that affects clarity.\\nExplain the mistake in child-friendly language using words they already know. Avoid technical phoneme terms.\\nCompare their pronunciation to the correct sound using relatable word examples.\\nIf the phoneme recognition model appears to have introduced random errors, ignore them and focus on reasonable mistakes.\\n\\n2. A New Practice Sentence:\\nIf the student made a pronunciation mistake, the new sentence should reinforce the corrected sound by including words that use it naturally.\\nIf the pronunciation was nearly perfect, introduce a new sentence that tests a different phoneme instead, helping them expand their skills.\\nThe sentence should be decodable, short (5-8 words), and engaging.\\n\\nExample Input:\\n{\\n  \\\"attempted\\\": \\\"The cat is on the mat\\\",\\n  \\\"ground_truth_phonemes\\\": [\\\"DH\\\", \\\"AH\\\", \\\"K\\\", \\\"AE\\\", \\\"T\\\", \\\"IH\\\", \\\"Z\\\", \\\"AA\\\", \\\"N\\\", \\\"DH\\\", \\\"AH\\\", \\\"M\\\", \\\"AE\\\", \\\"T\\\"],\\n  \\\"student_phonemes\\\": [\\\"DH\\\", \\\"AH\\\", \\\"K\\\", \\\"H\\\", \\\"AE\\\", \\\"CH\\\", \\\"IH\\\", \\\"Z\\\", \\\"A\\\", \\\"N\\\", \\\"DH\\\", \\\"AH\\\", \\\"M\\\", \\\"EY\\\", \\\"T\\\"]\\n}\\n\\nExample Output (If the student made a mistake):\\n{\\n  \\\"feedback\\\": \\\"Great job! Let's work on how you say 'mat'. You made it sound like the long 'a' in 'skate', but 'mat' should sound like 'cat'. Try keeping your mouth more open when saying 'a' in 'mat'—like when you say 'hat' or 'bat'.\\\",\\n  \\\"sentence\\\": \\\"The fat mat made a big splat!\\\"\\n}\\n\\nExample Output (If pronunciation was strong):\\n{\\n  \\\"feedback\\\": \\\"Nice work! You said everything really clearly. Now, let's try a new sound! Can you say this sentence and make sure the 'sh' in 'ship' sounds soft, like in 'shoe'?\\\",\\n  \\\"sentence\\\": \\\"The ship sails to the shore.\\\"\\n}\"\n",
    "          }\n",
    "        ]\n",
    "      }\n",
    "  ]\n",
    "\n",
    "reset_conversation_history()\n",
    "\n",
    "def get_response(attempted_scentance, ground_truth_phonemes, student_phonemes):\n",
    "  global conversation_history\n",
    "\n",
    "  # format the user input for our model\n",
    "  user_input = {\n",
    "    \"attempted\": attempted_scentance,\n",
    "    \"ground_truth_phonemes\": ground_truth_phonemes,\n",
    "    \"student_phonemes\": student_phonemes\n",
    "  }\n",
    "\n",
    "  # add the user input to the conversation history\n",
    "  conversation_history.append({\n",
    "    \"role\": \"user\",\n",
    "    \"content\": str(user_input)\n",
    "  })\n",
    "\n",
    "  # get the response from the model\n",
    "  response = client.chat.completions.create(\n",
    "    model=\"gpt-4o-mini\",\n",
    "    messages=conversation_history,\n",
    "    response_format={\n",
    "      \"type\": \"json_schema\",\n",
    "      \"json_schema\": {\n",
    "        \"name\": \"response_schema\",\n",
    "        \"schema\": {\n",
    "          \"type\": \"object\",\n",
    "          \"required\": [\n",
    "            \"feedback\",\n",
    "            \"sentence\"\n",
    "          ],\n",
    "          \"properties\": {\n",
    "            \"feedback\": {\n",
    "              \"type\": \"string\",\n",
    "              \"description\": \"Specific feedback provided to the student to help them improve their reading pronunciation.\"\n",
    "            },\n",
    "            \"sentence\": {\n",
    "              \"type\": \"string\",\n",
    "              \"description\": \"A decodable sentence based on the mistakes made in the student's pronunciation.\"\n",
    "            }\n",
    "          },\n",
    "          \"additionalProperties\": False\n",
    "        },\n",
    "        \"strict\": True\n",
    "      }\n",
    "    },\n",
    "    temperature=1,\n",
    "    max_completion_tokens=2048,\n",
    "    top_p=1,\n",
    "    frequency_penalty=0,\n",
    "    presence_penalty=0\n",
    "  )\n",
    "  \n",
    "  model_response = response.choices[0].message.content\n",
    "  conversation_history.append({\n",
    "    \"role\": \"assistant\",\n",
    "    \"content\": model_response})\n",
    "  \n",
    "  return model_response\n"
   ]
  },
  {
   "cell_type": "code",
   "execution_count": 3,
   "metadata": {},
   "outputs": [
    {
     "name": "stdout",
     "output_type": "stream",
     "text": [
      "{\"feedback\":\"Great job! Let's work on how you say 'mat'. You pronounced the end part a bit differently, making it sound like 'mate', but 'mat' should be shorter without the long 'a' sound. Try to say 'mat' more like 'cat' or 'hat'. Keep your mouth more open when you say 'a' in 'mat'.\",\"sentence\":\"The fat cat sat on the mat!\"}\n"
     ]
    }
   ],
   "source": [
    "output = get_response(\"The cat is on the mat\", ['DH', 'AH', 'K', 'AE', 'T', 'IH', 'Z', 'AA', 'N', 'DH', 'AH', 'M', 'AE', 'T'], ['DH', 'AH', 'K', 'H', 'AE', 'CH', 'IH', 'Z', 'A', 'N', 'DH', 'AH', 'M', 'EY', 'T'])\n",
    "print(output)\n"
   ]
  },
  {
   "cell_type": "code",
   "execution_count": 4,
   "metadata": {},
   "outputs": [],
   "source": [
    "import pandas as pd\n",
    "import json\n",
    "output_json = json.loads(output)"
   ]
  },
  {
   "cell_type": "code",
   "execution_count": 5,
   "metadata": {},
   "outputs": [
    {
     "name": "stdout",
     "output_type": "stream",
     "text": [
      "{'feedback': \"Great job! Let's work on how you say 'mat'. You pronounced the end part a bit differently, making it sound like 'mate', but 'mat' should be shorter without the long 'a' sound. Try to say 'mat' more like 'cat' or 'hat'. Keep your mouth more open when you say 'a' in 'mat'.\", 'sentence': 'The fat cat sat on the mat!'}\n"
     ]
    }
   ],
   "source": [
    "print(output_json)"
   ]
  },
  {
   "cell_type": "code",
   "execution_count": 7,
   "metadata": {},
   "outputs": [
    {
     "name": "stdout",
     "output_type": "stream",
     "text": [
      "Welcome to the Phonics Assistant! Let's get started.\n",
      "Recording...\n",
      "Finished recording.\n",
      "\n",
      "Student Phonemes:  ['DH', 'AH', 'H', 'AE', 'T', 'S', 'AO', 'T', 'A', 'N', 'DH', 'AH', 'H', 'AE']\n",
      "\n",
      "Ground Truth Phonemes:  ['DH', 'AH', 'K', 'AE', 'T', 'S', 'AE', 'T', 'AA', 'N', 'DH', 'AH', 'HH', 'AE', 'T']\n",
      "\n",
      "Feedback: \n",
      "Great job trying to say the sentence! Let's focus on the word 'sat'. You said it like 'saw', but 'sat' should have a short 'a' sound, like in 'cat'. Try saying 'sat' with your mouth open like when you say 'bat' or 'mat'.\n",
      "\n",
      " New sentence to say: \n",
      "The cat sat on the flat mat!\n",
      "Recording...\n",
      "Finished recording.\n",
      "\n",
      "Student Phonemes:  ['DH', 'AH', 'K', 'H', 'AE', 'S', 'AR', 'A', 'N', 'DH', 'AH', 'M', 'A']\n",
      "\n",
      "Ground Truth Phonemes:  ['DH', 'AH', 'K', 'AE', 'T', 'S', 'AE', 'T', 'AA', 'N', 'DH', 'AH', 'F', 'L', 'AE', 'T', 'M', 'AE', 'T', '!']\n",
      "\n",
      "Feedback: \n",
      "Nice try with the sentence! But let's work on the word 'sat'. You made it sound like 'saw', which is a different sound. Remember, 'sat' should have a short 'a' sound, like in 'cat'. Try to keep your mouth more open when saying 'sat', just like in 'hat' or 'bat'.\n",
      "\n",
      " New sentence to say: \n",
      "The bat sat on the mat and sat!\n",
      "Recording...\n",
      "Finished recording.\n",
      "\n",
      "Student Phonemes:  ['DH', 'AH', 'P', 'AE', 'T', 'S', 'AE', 'T', 'A', 'N', 'M', 'A', 'K', 'AH', 'N', 'D', 'S', 'AE', 'T']\n",
      "\n",
      "Ground Truth Phonemes:  ['DH', 'AH', 'B', 'AE', 'T', 'S', 'AE', 'T', 'AA', 'N', 'DH', 'AH', 'M', 'AE', 'T', 'AH', 'N', 'D', 'S', 'AE', 'T', '!']\n",
      "\n",
      "Feedback: \n",
      "You're getting better! Let's focus on how you say 'bat'. You made it sound like 'pat', which changes the first sound. 'Bat' starts with a 'b' sound like in 'ball'. Try saying 'bat' again, starting with your lips together then popping them apart for the 'b'.\n",
      "\n",
      " New sentence to say: \n",
      "The big bat flaps and flies fast!\n",
      "Recording...\n",
      "Finished recording.\n",
      "\n",
      "Student Phonemes:  ['DH', 'AH', 'B', 'IH', 'G', 'B', 'AE', 'T', 'F', 'L', 'A', 'P', 'S', 'AH', 'N', 'D', 'F', 'L', 'A', 'Z', 'F', 'AR', 'S']\n",
      "\n",
      "Ground Truth Phonemes:  ['DH', 'AH', 'B', 'IH', 'G', 'B', 'AE', 'T', 'F', 'L', 'AE', 'P', 'S', 'AH', 'N', 'D', 'F', 'L', 'AY', 'Z', 'F', 'AE', 'S', 'T', '!']\n",
      "\n",
      "Feedback: \n",
      "Great effort! Let's work on the word 'fast'. You said it like 'farst', which is a little different. The 'a' in 'fast' should sound like the 'a' in 'cat', not like the 'a' in 'far'. Keep your mouth open wide like when you say 'hat' to make that sound clearer!\n",
      "\n",
      " New sentence to say: \n",
      "The cat ran fast past the mat!\n",
      "Recording...\n",
      "Finished recording.\n",
      "\n",
      "Student Phonemes:  ['DH', 'AH', 'K', 'H', 'AE', 'T', 'W', 'A', 'N', 'F', 'AE', 'S', 'T', 'P', 'AE', 'S', 'DH', 'AH', 'M', 'AH']\n",
      "\n",
      "Ground Truth Phonemes:  ['DH', 'AH', 'K', 'AE', 'T', 'R', 'AE', 'N', 'F', 'AE', 'S', 'T', 'P', 'AE', 'S', 'T', 'DH', 'AH', 'M', 'AE', 'T', '!']\n",
      "\n",
      "Feedback: \n",
      "Nice try! Let’s work on the word 'ran'. You made it sound like 'wan', which isn't quite right. 'Ran' has a short 'a' sound like in 'cat'. To practice, say 'ran' with your mouth open like when you say 'man'. This will help you make the right sound!\n",
      "\n",
      " New sentence to say: \n",
      "The cat can ran up the hill!\n"
     ]
    }
   ],
   "source": [
    "from audio_processing.audio_recording import record_and_process_pronunciation\n",
    "from audio_processing.phoneme_extractor import PhonemeExtractor\n",
    "from phonecodes.phonecodes import ipa2arpabet\n",
    "from text_to_audio import ElevenLabsAPIClient\n",
    "from phoneme_assistant import PhonemeAssistant\n",
    "# user loop\n",
    "\n",
    "print(\"Welcome to the Phonics Assistant! Let's get started.\")\n",
    "\n",
    "attempted_scentance = input(\"Enter scentence to start with: \")\n",
    "# extractor = PhonemeExtractor(model_name=\"vitouphy/wav2vec2-xls-r-300m-timit-phoneme\", model_output_processing=lambda x: [item for item in ipa2arpabet(x[0], 'eng') if item != \" \" and item != \"\"])\n",
    "extractor = PhonemeExtractor()\n",
    "\n",
    "tts = ElevenLabsAPIClient()\n",
    "\n",
    "phoneme_assistant = PhonemeAssistant()\n",
    "\n",
    "while True:\n",
    "    student_phonemes, ground_truth_phonemes = record_and_process_pronunciation(attempted_scentance, extraction_model=extractor)\n",
    "    print(\"\\nStudent Phonemes: \", student_phonemes)\n",
    "    print(\"\\nGround Truth Phonemes: \", ground_truth_phonemes)\n",
    "  \n",
    "    output = phoneme_assistant.get_response(attempted_scentance, ground_truth_phonemes, student_phonemes)\n",
    "    output_json = json.loads(output)\n",
    "    print(\"\\nFeedback: \")\n",
    "    print(output_json['feedback'])\n",
    "\n",
    "    print(\"\\n New sentence to say: \")\n",
    "    print(output_json['sentence'])\n",
    "\n",
    "    attempted_scentance = output_json['sentence']\n",
    "\n",
    "    audio_feedback = f'{output_json[\"feedback\"]}'\n",
    "    tts.getAudio(audio_feedback, playAudio=True)\n",
    "\n",
    "    if input(\"Do you want to continue? (yes/no): \") != \"yes\":\n",
    "        break"
   ]
  },
  {
   "cell_type": "code",
   "execution_count": null,
   "metadata": {},
   "outputs": [],
   "source": []
  }
 ],
 "metadata": {
  "kernelspec": {
   "display_name": "phoneme-recognition",
   "language": "python",
   "name": "python3"
  },
  "language_info": {
   "codemirror_mode": {
    "name": "ipython",
    "version": 3
   },
   "file_extension": ".py",
   "mimetype": "text/x-python",
   "name": "python",
   "nbconvert_exporter": "python",
   "pygments_lexer": "ipython3",
   "version": "3.8.20"
  }
 },
 "nbformat": 4,
 "nbformat_minor": 2
}
